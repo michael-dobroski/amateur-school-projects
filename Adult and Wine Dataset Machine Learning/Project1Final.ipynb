{
 "cells": [
  {
   "cell_type": "markdown",
   "metadata": {},
   "source": [
    "# Project 1 - Adult and Wine Dataset"
   ]
  },
  {
   "cell_type": "code",
   "execution_count": null,
   "metadata": {},
   "outputs": [],
   "source": [
    "Names = \"Zafar Khan. Subrat Acharya, and Michael Dobroski\""
   ]
  },
  {
   "cell_type": "code",
   "execution_count": 2,
   "metadata": {},
   "outputs": [],
   "source": [
    "# imports\n",
    "%matplotlib inline\n",
    "import numpy as np\n",
    "import matplotlib.pyplot as plt\n",
    "import matplotlib as mpl\n",
    "import pandas as pd\n",
    "import seaborn as sns\n",
    "from sklearn import (datasets, neighbors,\n",
    "                     naive_bayes,\n",
    "                     model_selection as skms,\n",
    "                     linear_model, dummy,\n",
    "                     metrics, preprocessing)\n",
    "from sklearn import preprocessing\n",
    "from sklearn.preprocessing import OneHotEncoder"
   ]
  },
  {
   "cell_type": "markdown",
   "metadata": {},
   "source": [
    "# Adult Dataset"
   ]
  },
  {
   "cell_type": "code",
   "execution_count": 3,
   "metadata": {},
   "outputs": [],
   "source": [
    "######### Beginning of Adult dataset\n",
    "\n",
    "# Reading in Files, made a slight typo in naming my Adulttest.csv file\n",
    "adult_train_plus_val_df = pd.read_csv(\"Adulttrain.csv\")\n",
    "adult_test_df = pd.read_csv(\"Aduttest.csv\")\n",
    "\n",
    "#Replacing ? with the most common feature in each coloumn\n",
    "adult_train_plus_val_df['workclass'] = adult_train_plus_val_df['workclass'].replace({'?':\"Private\"})\n",
    "adult_train_plus_val_df['occupation'] = adult_train_plus_val_df['occupation'].replace({'?':\"Other-service\"})\n",
    "adult_train_plus_val_df['native-country'] = adult_train_plus_val_df['native-country'].replace({'?':\"United-States\"})\n",
    "\n",
    "#Doing the same thing above but with the test dataframe\n",
    "adult_test_df['workclass'] = adult_test_df['workclass'].replace({'?':\"Private\"})\n",
    "adult_test_df['occupation'] = adult_test_df['occupation'].replace({'?':\"Other-service\"})\n",
    "adult_test_df['native-country'] = adult_test_df['native-country'].replace({'?':\"United-States\"})\n",
    "\n",
    "# Source: https://www.youtube.com/watch?v=9yl6-HEY7_s (used below)\n",
    "# These dummy dataframes are essentially one hot encoded data frames\n",
    "workclass = pd.get_dummies(adult_train_plus_val_df['workclass'])\n",
    "marital_status = pd.get_dummies(adult_train_plus_val_df['marital-status'])\n",
    "occupation = pd.get_dummies(adult_train_plus_val_df['occupation'])\n",
    "relationship =pd.get_dummies(adult_train_plus_val_df['relationship'])\n",
    "race = pd.get_dummies(adult_train_plus_val_df['race'])\n",
    "sex =pd.get_dummies(adult_train_plus_val_df['sex'])\n",
    "native_country = pd.get_dummies(adult_train_plus_val_df['native-country'])\n",
    "\n",
    "\n",
    "workclass2 = pd.get_dummies(adult_test_df['workclass'])\n",
    "marital_status2 = pd.get_dummies(adult_test_df['marital-status'])\n",
    "occupation2 = pd.get_dummies(adult_test_df['occupation'])\n",
    "relationship2 =pd.get_dummies(adult_test_df['relationship'])\n",
    "race2 = pd.get_dummies(adult_test_df['race'])\n",
    "sex2 =pd.get_dummies(adult_test_df['sex'])\n",
    "native_country2 = pd.get_dummies(adult_test_df['native-country'])\n",
    "#\n",
    "\n",
    "#Dropping all the columns with strings from both dataframes\n",
    "adult_train_plus_val_df = adult_train_plus_val_df.drop(['workclass'],axis=1)\n",
    "adult_train_plus_val_df = adult_train_plus_val_df.drop(['marital-status'],axis=1)\n",
    "adult_train_plus_val_df = adult_train_plus_val_df.drop(['occupation'],axis=1)\n",
    "adult_train_plus_val_df = adult_train_plus_val_df.drop(['relationship'],axis=1)\n",
    "adult_train_plus_val_df = adult_train_plus_val_df.drop(['race'],axis=1)\n",
    "adult_train_plus_val_df = adult_train_plus_val_df.drop(['sex'],axis=1)\n",
    "adult_train_plus_val_df = adult_train_plus_val_df.drop(['native-country'],axis=1)\n",
    "\n",
    "#Same thing as above\n",
    "adult_test_df = adult_test_df.drop(['workclass'],axis=1)\n",
    "adult_test_df = adult_test_df.drop(['marital-status'],axis=1)\n",
    "adult_test_df = adult_test_df.drop(['occupation'],axis=1)\n",
    "adult_test_df = adult_test_df.drop(['relationship'],axis=1)\n",
    "adult_test_df = adult_test_df.drop(['race'],axis=1)\n",
    "adult_test_df = adult_test_df.drop(['sex'],axis=1)\n",
    "adult_test_df = adult_test_df.drop(['native-country'],axis=1)\n",
    "\n",
    "# Dropping columns which we found unneccesary\n",
    "adult_train_plus_val_df = adult_train_plus_val_df.drop(['fnlwgt'],axis=1)\n",
    "adult_train_plus_val_df = adult_train_plus_val_df.drop(['education'],axis=1)\n",
    "adult_train_plus_val_df = adult_train_plus_val_df.drop(['id'],axis=1)\n",
    "\n",
    "# Same thing as above however, had to keep id for predicting in test dataframe\n",
    "adult_test_df = adult_test_df.drop(['fnlwgt'],axis=1)\n",
    "adult_test_df = adult_test_df.drop(['education'],axis=1)\n",
    "adult_test_df_id = adult_test_df.copy()\n",
    "adult_test_df = adult_test_df.drop(['id'],axis=1)\n",
    "\n",
    "#All the one hot encoded dataframes excluding a few which we found unnecessary (Listed beneath)\n",
    "frames = [workclass, marital_status, occupation, sex, adult_train_plus_val_df]\n",
    "frames2 = [workclass2, marital_status2, occupation2, sex2, adult_test_df]\n",
    "# Relationships, Native Country, Race\n",
    "\n",
    "# Finally done preprocessing data by adding all dataframes together in repspective original dataframes\n",
    "adult_train_plus_val_df = pd.concat(frames, axis =1)\n",
    "adult_test_df = pd.concat(frames2, axis =1)\n",
    "\n",
    "# Dropping target class\n",
    "adult_train_plus_val_tgt = adult_train_plus_val_df[\"class\"]\n",
    "adult_train_plus_val_ftrs = adult_train_plus_val_df.drop(['class'],axis=1)\n",
    "\n",
    "# Here we attempted to scale our data but we discovered it to be a hinderance to our score, eventually got rid of it\n",
    "#min_max = preprocessing.MinMaxScaler(feature_range = (0,1))\n",
    "#for x in ['education-num', 'capital-gain', 'capital-loss', 'age', 'hours-per-week'] :\n",
    "#    adult_train_plus_val_ftrs[[x]] = min_max.fit_transform(adult_train_plus_val_ftrs[[x]])\n",
    "    \n",
    "#for x in ['education-num', 'capital-gain', 'capital-loss', 'age', 'hours-per-week'] :\n",
    "#    adult_test_df[[x]] = min_max.fit_transform(adult_test_df[[x]])\n",
    "\n",
    "# Train test split our train and validation data\n",
    "(adult_train_ftrs,\n",
    " adult_val_ftrs,\n",
    " adult_train_tgt,\n",
    " adult_val_tgt) = skms.train_test_split(adult_train_plus_val_ftrs,\n",
    "                                                      adult_train_plus_val_tgt,\n",
    "                                                      test_size=.25)\n",
    "\n"
   ]
  },
  {
   "cell_type": "code",
   "execution_count": 4,
   "metadata": {},
   "outputs": [
    {
     "name": "stdout",
     "output_type": "stream",
     "text": [
      "NB: 0.831\n",
      "1-NN: 0.816\n",
      "3-NN: 0.839\n",
      "5-NN: 0.847\n",
      "7-NN: 0.849\n",
      "9-NN: 0.849\n",
      "11-NN: 0.848\n",
      "13-NN: 0.849\n",
      "15-NN: 0.850\n",
      "17-NN: 0.850\n",
      "19-NN: 0.851\n",
      "21-NN: 0.850\n",
      "23-NN: 0.850\n",
      "25-NN: 0.850\n",
      "27-NN: 0.851\n",
      "29-NN: 0.849\n",
      "31-NN: 0.848\n"
     ]
    }
   ],
   "source": [
    "# add k-NN models with various values of k to models_to_try\n",
    "models_to_try = {'NB': naive_bayes.GaussianNB()}\n",
    "for k in range(1,32,2):\n",
    "    models_to_try[f'{k}-NN'] = neighbors.KNeighborsClassifier(n_neighbors=k)\n",
    "\n",
    "#Utilizing cross fold validation to find best model, utilized 5 folds in order to be somewhat effective\n",
    "model_acc = {}\n",
    "for model_name in models_to_try:\n",
    "    scores = skms.cross_val_score(models_to_try[model_name],\n",
    "                                  adult_train_plus_val_ftrs,\n",
    "                                  adult_train_plus_val_tgt,\n",
    "                                  cv=5,\n",
    "                                  scoring='accuracy')\n",
    "    accuracy = scores.mean()\n",
    "    print(f'{model_name}: {accuracy:.3f}')\n",
    "    model_acc[model_name] = accuracy\n"
   ]
  },
  {
   "cell_type": "code",
   "execution_count": 5,
   "metadata": {},
   "outputs": [],
   "source": [
    "#Select best model from statements above to use as final model\n",
    "best_model = neighbors.KNeighborsClassifier(n_neighbors=19)\n",
    "fit = best_model.fit(adult_train_plus_val_ftrs, adult_train_plus_val_tgt)"
   ]
  },
  {
   "cell_type": "code",
   "execution_count": 6,
   "metadata": {},
   "outputs": [],
   "source": [
    "# Make our predictions using the model we chose above and lastly writing out to a file\n",
    "predictions = best_model.predict(adult_test_df)\n",
    "predictions_final = pd.DataFrame()\n",
    "predictions_final['Id'] = adult_test_df_id['id']\n",
    "predictions_final['Category'] = predictions\n",
    "#predictions_final.to_csv(\"adultpredictionsK=19.csv\", index=None) #Write out to new CSV file\n",
    "\n",
    "########## End of Adult dataset"
   ]
  },
  {
   "cell_type": "markdown",
   "metadata": {},
   "source": [
    "# Wine Data Set"
   ]
  },
  {
   "cell_type": "code",
   "execution_count": 7,
   "metadata": {},
   "outputs": [],
   "source": [
    "########## Beginning of Wine dataset\n",
    "\n",
    "wine_df = pd.read_csv('wine_train.csv')\n",
    "wine_test = pd.read_csv('wine_test.csv')\n",
    "\n",
    "wine_train_val_ftrs = wine_df.drop(['quality', 'id', 'density'], axis = 1)\n",
    "wine_train_val_tgt = wine_df['quality']\n",
    "wine_test_ftrs = wine_test.drop(['id', 'density'], axis = 1)\n",
    "\n",
    "min_max = preprocessing.MinMaxScaler(feature_range = (0,1))\n",
    "for col in wine_train_val_ftrs.columns:\n",
    "    wine_train_val_ftrs[[col]] = min_max.fit_transform(wine_train_val_ftrs[[col]])\n",
    "for col in wine_test_ftrs.columns:\n",
    "    wine_test_ftrs[[col]] = min_max.fit_transform(wine_test_ftrs[[col]])"
   ]
  },
  {
   "cell_type": "code",
   "execution_count": 8,
   "metadata": {},
   "outputs": [
    {
     "name": "stdout",
     "output_type": "stream",
     "text": [
      "lr: 0.78\n",
      "1-NN: 1.00\n",
      "3-NN: 0.85\n",
      "5-NN: 0.82\n",
      "6-NN: 0.81\n",
      "7-NN: 0.80\n",
      "9-NN: 0.79\n",
      "\n",
      "Best model: lr; RMSE: 0.78\n"
     ]
    }
   ],
   "source": [
    "models_to_try = {'lr': linear_model.LinearRegression(), \n",
    "                 '1-NN': neighbors.KNeighborsRegressor(n_neighbors=1),\n",
    "                 '3-NN': neighbors.KNeighborsRegressor(n_neighbors=3),\n",
    "                 '5-NN': neighbors.KNeighborsRegressor(n_neighbors=5),\n",
    "                 '6-NN': neighbors.KNeighborsRegressor(n_neighbors=6),\n",
    "                 '7-NN': neighbors.KNeighborsRegressor(n_neighbors=7),\n",
    "                 '9-NN': neighbors.KNeighborsRegressor(n_neighbors=9),}\n",
    "model_rmse = {}\n",
    "for model_name in models_to_try:\n",
    "    scores = skms.cross_val_score(models_to_try[model_name],\n",
    "                                  wine_train_val_ftrs,\n",
    "                                  wine_train_val_tgt,\n",
    "                                  cv=10,\n",
    "                                  scoring='neg_mean_squared_error')\n",
    "    \n",
    "    mean_rmse = np.sqrt(-scores.mean())\n",
    "    print(f'{model_name}: {mean_rmse:.2f}')\n",
    "    model_rmse[model_name] = mean_rmse\n",
    "\n",
    "best_model_name = min(model_rmse,key=model_rmse.get)\n",
    "print(f'\\nBest model: {best_model_name}; RMSE: {model_rmse[best_model_name]:.2f}')\n",
    "best_model = models_to_try[best_model_name]"
   ]
  },
  {
   "cell_type": "code",
   "execution_count": 9,
   "metadata": {},
   "outputs": [],
   "source": [
    "#best_model = neighbors.KNeighborsRegressor(n_neighbors = 15)\n",
    "best_fit = best_model.fit(wine_train_val_ftrs, wine_train_val_tgt)\n",
    "predictions = best_fit.predict(wine_test_ftrs)\n",
    "predictions_final = pd.DataFrame()\n",
    "predictions_final['Id'] = wine_test['id']\n",
    "predictions_final['Predicted'] = np.around(predictions, decimals = 0)\n",
    "#display(predictions_final)\n",
    "#predictions_final.to_csv(\"winepredictions.csv\", index=None)"
   ]
  },
  {
   "cell_type": "code",
   "execution_count": null,
   "metadata": {},
   "outputs": [],
   "source": []
  }
 ],
 "metadata": {
  "kernelspec": {
   "display_name": "Python 3",
   "language": "python",
   "name": "python3"
  },
  "language_info": {
   "codemirror_mode": {
    "name": "ipython",
    "version": 3
   },
   "file_extension": ".py",
   "mimetype": "text/x-python",
   "name": "python",
   "nbconvert_exporter": "python",
   "pygments_lexer": "ipython3",
   "version": "3.7.4"
  }
 },
 "nbformat": 4,
 "nbformat_minor": 4
}
