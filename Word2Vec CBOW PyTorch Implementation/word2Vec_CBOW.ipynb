{
  "cells": [
    {
      "cell_type": "markdown",
      "metadata": {},
      "source": [
        "# NLP Word2Vec CBOW Neural Net using PyTorch by Michael Dobroski 12/12/2021"
      ]
    },
    {
      "cell_type": "code",
      "execution_count": 1,
      "metadata": {
        "colab": {},
        "colab_type": "code",
        "id": "SYTmVZStiJ3w"
      },
      "outputs": [],
      "source": [
        "import pandas as pd\n",
        "import string\n",
        "import Word2VecSupport\n",
        "\n",
        "def clean_text(text):    \n",
        "    x = text.translate(str.maketrans('', '', string.punctuation)) # remove punctuation\n",
        "    x = x.lower().split() # lower case and split by whitespace to differentiate words\n",
        "    return x\n",
        "\n",
        "example_text = pd.read_csv('text.csv')\n",
        "cleaned_text = example_text.Review[:100].apply(clean_text)"
      ]
    },
    {
      "cell_type": "code",
      "execution_count": 2,
      "metadata": {
        "colab": {},
        "colab_type": "code",
        "id": "4QQycg3vFhf8"
      },
      "outputs": [],
      "source": [
        "# create vocab\n",
        "intermid = []\n",
        "for i in range(len(cleaned_text)):\n",
        "    for j in range(len(cleaned_text[i])):\n",
        "        intermid.append(cleaned_text[i][j])\n",
        "vocab = set(intermid)\n",
        "\n",
        "# create word_to_index dictionary\n",
        "vocab = list(vocab)\n",
        "\n",
        "# create word2Vec from the supporting class\n",
        "word2Vec = Word2VecSupport.Word2Vec(vocab)"
      ]
    },
    {
      "cell_type": "code",
      "execution_count": 3,
      "metadata": {
        "colab": {},
        "colab_type": "code",
        "id": "V-sMXIE6heYv"
      },
      "outputs": [],
      "source": [
        "# CBOW model class definition\n",
        "import torch\n",
        "import torch.nn as nn\n",
        "class CBOW(torch.nn.Module):\n",
        "    def __init__(self, vocab_size, embed_dim, hidden_dim):\n",
        "        super(CBOW, self).__init__()\n",
        "        self.embed = nn.Embedding(vocab_size, embed_dim)\n",
        "        self.fc1 = nn.Linear(embed_dim, hidden_dim)\n",
        "        self.fc2 = nn.Linear(hidden_dim, vocab_size)\n",
        "        self.activate1 = nn.ReLU()\n",
        "        self.activate2 = nn.LogSoftmax(dim = -1)\n",
        "    def forward(self, inputs):\n",
        "        step = sum(self.embed(inputs)).view(1,-1)\n",
        "        step = self.fc1(step)\n",
        "        step = self.activate1(step)\n",
        "        step = self.fc2(step)\n",
        "        output = self.activate2(step)\n",
        "        return output"
      ]
    },
    {
      "cell_type": "code",
      "execution_count": 4,
      "metadata": {
        "colab": {},
        "colab_type": "code",
        "id": "35ybUlZs14Ud"
      },
      "outputs": [
        {
          "name": "stdout",
          "output_type": "stream",
          "text": [
            "Now training...\n",
            "Epoch 0 - loss = 4217.05\n",
            "Epoch 10 - loss = 3374.741\n",
            "Epoch 20 - loss = 2809.115\n",
            "Epoch 30 - loss = 2281.403\n",
            "Epoch 40 - loss = 1766.898\n",
            "Epoch 50 - loss = 1238.338\n",
            "Epoch 60 - loss = 736.606\n",
            "Epoch 70 - loss = 593.156\n",
            "Epoch 80 - loss = 295.511\n",
            "Epoch 90 - loss = 159.768\n",
            "Epoch 100 - loss = 111.298\n",
            "Epoch 110 - loss = 83.485\n",
            "Epoch 120 - loss = 65.807\n",
            "Epoch 130 - loss = 53.748\n",
            "Epoch 140 - loss = 45.111\n",
            "Epoch 150 - loss = 38.685\n",
            "Epoch 160 - loss = 33.742\n",
            "Epoch 170 - loss = 29.835\n",
            "Epoch 180 - loss = 26.679\n",
            "Epoch 190 - loss = 24.079\n",
            "Epoch 200 - loss = 21.91\n",
            "Epoch 210 - loss = 20.071\n",
            "Epoch 220 - loss = 18.497\n",
            "Epoch 230 - loss = 17.135\n",
            "Epoch 240 - loss = 15.947\n",
            "Epoch 250 - loss = 14.903\n",
            "Epoch 260 - loss = 13.978\n",
            "Epoch 270 - loss = 13.154\n",
            "Epoch 280 - loss = 12.416\n",
            "Epoch 290 - loss = 11.75\n",
            "300 epochs learned, final loss is 11.206\n"
          ]
        }
      ],
      "source": [
        "# parameters\n",
        "VOCAB_SIZE = len(vocab)\n",
        "EMBED_DIM = 100\n",
        "WINDOW_SIZE = 2\n",
        "HIDDEN_DIM = 30\n",
        "N_EPOCHS = 300\n",
        "\n",
        "# pre-process data\n",
        "data = word2Vec.createTupleList(cleaned_text, WINDOW_SIZE, word2Vec.word_to_index_dictionary)\n",
        "\n",
        "# train CBOW model and update user\n",
        "model = CBOW(VOCAB_SIZE, EMBED_DIM, HIDDEN_DIM)\n",
        "lossFunc = nn.CrossEntropyLoss()\n",
        "opt = torch.optim.SGD(model.parameters(), lr=0.001)\n",
        "loss = {}\n",
        "print('Now training...')\n",
        "for epoch in range(N_EPOCHS):\n",
        "    currLoss = 0\n",
        "    for slice in data:\n",
        "        context, focus = slice\n",
        "        logProb = model(context)\n",
        "        currLoss += lossFunc(logProb, focus)\n",
        "    if epoch % 10 == 0:\n",
        "        print('Epoch {} - loss = {}'.format(epoch, round(float(currLoss), 3)))\n",
        "    loss[epoch] = currLoss\n",
        "    opt.zero_grad()\n",
        "    currLoss.backward()\n",
        "    opt.step()\n",
        "print('{} epochs learned, final loss is {}'.format(N_EPOCHS, round(float(currLoss), 3)))"
      ]
    },
    {
      "cell_type": "code",
      "execution_count": 5,
      "metadata": {
        "colab": {},
        "colab_type": "code",
        "id": "xdAEHlvX14Ur"
      },
      "outputs": [
        {
          "data": {
            "image/png": "[encoded data removed]",
            "text/plain": [
              "<Figure size 432x288 with 1 Axes>"
            ]
          },
          "metadata": {
            "needs_background": "light"
          },
          "output_type": "display_data"
        }
      ],
      "source": [
        "# plot losses vs epoch\n",
        "import matplotlib.pyplot as plt\n",
        "import numpy as np\n",
        "x = np.array(list(loss.keys()))\n",
        "y = np.zeros_like(x)\n",
        "for i in range(N_EPOCHS):\n",
        "    y[i] = loss[i]\n",
        "_ = plt.plot(x, y)\n",
        "_ = plt.xlabel(\"Num Epochs\")\n",
        "_ = plt.ylabel(\"Loss\")\n",
        "_ = plt.title(\"Losses by Epochs\")"
      ]
    },
    {
      "cell_type": "code",
      "execution_count": 20,
      "metadata": {
        "colab": {},
        "colab_type": "code",
        "id": "rS5bfhBW14U_"
      },
      "outputs": [
        {
          "name": "stdout",
          "output_type": "stream",
          "text": [
            "The five most similar words to delicious is ...\n",
            "1. \"has\" with cosine similarity value of 0.3196\n",
            "2. \"disgusted\" with cosine similarity value of 0.2991\n",
            "3. \"today\" with cosine similarity value of 0.274\n",
            "4. \"generic\" with cosine similarity value of 0.2476\n",
            "5. \"year\" with cosine similarity value of 0.2341\n"
          ]
        }
      ],
      "source": [
        "# using cosine similarity of embedded vectors of focus words, present user with the top five similar words to any target word according to recently trained model\n",
        "import sklearn.metrics\n",
        "embedding_weights = model.embed.weight.data\n",
        "embedding_weights_dict = {}\n",
        "cos_sim_dict = {}\n",
        "target = vocab[117]\n",
        "for i, word in enumerate(vocab):\n",
        "    embedding_weights_dict[word] = embedding_weights[i].numpy()\n",
        "for word in list(embedding_weights_dict.keys()):\n",
        "    cos_sim_dict[word] = sklearn.metrics.pairwise.cosine_similarity(embedding_weights_dict[target].reshape(1, -1), embedding_weights_dict[word].reshape(1, -1))[0][0]\n",
        "best_fits = sorted(cos_sim_dict.items(), key = lambda x : x[1], reverse = True)\n",
        "print('The five most similar words to {} is ...'.format(target))\n",
        "for i in range(1,6):\n",
        "    word, sim = best_fits[i]\n",
        "    print('{}. \"{}\" with cosine similarity value of {}'.format(i, word, round(float(sim), 4)))"
      ]
    }
  ],
  "metadata": {
    "accelerator": "GPU",
    "colab": {
      "collapsed_sections": [],
      "name": "BA865 - HW03.ipynb",
      "provenance": []
    },
    "interpreter": {
      "hash": "bd6d6f7d4da9588d7d00484724248e839498729878d7a9ce1134f8bd9a21b59a"
    },
    "kernelspec": {
      "display_name": "Python 3.8.12 64-bit",
      "name": "python3"
    },
    "language_info": {
      "codemirror_mode": {
        "name": "ipython",
        "version": 3
      },
      "file_extension": ".py",
      "mimetype": "text/x-python",
      "name": "python",
      "nbconvert_exporter": "python",
      "pygments_lexer": "ipython3",
      "version": "3.8.12"
    }
  },
  "nbformat": 4,
  "nbformat_minor": 2
}
